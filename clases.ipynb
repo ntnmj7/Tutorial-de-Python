{
  "nbformat": 4,
  "nbformat_minor": 0,
  "metadata": {
    "colab": {
      "provenance": [],
      "authorship_tag": "ABX9TyPu9UCifO9PG/piytzR6UBE",
      "include_colab_link": true
    },
    "kernelspec": {
      "name": "python3",
      "display_name": "Python 3"
    },
    "language_info": {
      "name": "python"
    }
  },
  "cells": [
    {
      "cell_type": "markdown",
      "metadata": {
        "id": "view-in-github",
        "colab_type": "text"
      },
      "source": [
        "<a href=\"https://colab.research.google.com/github/ntnmj7/clases_python2/blob/clases%2FPython_1/clases.ipynb\" target=\"_parent\"><img src=\"https://colab.research.google.com/assets/colab-badge.svg\" alt=\"Open In Colab\"/></a>"
      ]
    },
    {
      "cell_type": "markdown",
      "source": [
        "#Tutorial de Python 🐛\n"
      ],
      "metadata": {
        "id": "Hon7O7tod4_h"
      }
    },
    {
      "cell_type": "markdown",
      "source": [
        "#Python, una guía completa"
      ],
      "metadata": {
        "id": "nJwGykQykNzY"
      }
    },
    {
      "cell_type": "markdown",
      "source": [
        "\n",
        "\n",
        "## ¿Qué es Python?\n",
        "\n",
        "Python es un lenguaje de programación de alto nivel, interpretado y de propósito general. Fue creado por Guido van Rossum y lanzado por primera vez en 1991. Python enfatiza la legibilidad del código y su sintaxis permite a los programadores expresar conceptos en menos líneas de código en comparación con otros lenguajes como C++ o Java.\n",
        "\n",
        "## Características Principales\n",
        "\n",
        "- **Legibilidad**: Su sintaxis clara y concisa facilita la lectura y el mantenimiento del código.\n",
        "- **Multiparadigma**: Soporta programación orientada a objetos, programación estructurada y programación funcional.\n",
        "- **Bibliotecas Extensas**: Python cuenta con una gran cantidad de bibliotecas estándar y de terceros que simplifican el desarrollo.\n",
        "- **Interpretado**: No requiere compilación, lo que permite una rápida iteración y pruebas.\n",
        "- **Comunidad Activa**: Gran cantidad de recursos, tutoriales y soporte gracias a una comunidad de desarrolladores muy activa.\n",
        "\n",
        "## ¿Para Qué Sirve Python?\n",
        "\n",
        "Python se utiliza en una amplia variedad de aplicaciones y campos debido a su versatilidad y facilidad de uso. A continuación, se detallan algunas de las áreas más comunes:\n",
        "\n",
        "### Desarrollo Web\n",
        "\n",
        "Frameworks como Django y Flask permiten desarrollar aplicaciones web robustas y escalables.\n",
        "\n",
        "### Ciencia de Datos y Machine Learning\n",
        "\n",
        "Librerías como Pandas, NumPy, SciPy, Scikit-learn y TensorFlow son herramientas esenciales para análisis de datos, machine learning y deep learning.\n",
        "\n",
        "### Automatización y Scripting\n",
        "\n",
        "Python es ideal para escribir scripts para automatizar tareas repetitivas, ya sea en sistemas operativos, en la web o en aplicaciones.\n",
        "\n",
        "### Desarrollo de Software\n",
        "\n",
        "Se utiliza para el desarrollo de aplicaciones de escritorio, aplicaciones empresariales y más. Herramientas como PyQt y Kivy son populares en este ámbito.\n",
        "\n",
        "### Computación Científica y Numérica\n",
        "\n",
        "Librerías como NumPy y SciPy facilitan los cálculos numéricos y la modelación científica.\n",
        "\n",
        "### Desarrollo de Juegos\n",
        "\n",
        "Pygame es una librería popular para desarrollar juegos en Python.\n",
        "\n",
        "### Seguridad Informática\n",
        "\n",
        "Python es común en el desarrollo de herramientas para análisis de seguridad, pruebas de penetración y análisis forense.\n",
        "\n",
        "## Industrias que Utilizan Python\n",
        "\n",
        "Python es ampliamente utilizado en diversas industrias. Algunas de las más destacadas incluyen:\n",
        "\n",
        "### Tecnología y Software\n",
        "\n",
        "Empresas como Google, Facebook y Netflix usan Python para varios propósitos, desde análisis de datos hasta desarrollo backend.\n",
        "\n",
        "### Finanzas\n",
        "\n",
        "Python es utilizado en la construcción de algoritmos de trading, análisis financiero y modelado de riesgo.\n",
        "\n",
        "### Educación\n",
        "\n",
        "Es popular en la enseñanza de la programación y en cursos introductorios a la informática.\n",
        "\n",
        "### Ciencias e Investigación\n",
        "\n",
        "Utilizado en bioinformática, astrofísica, y otros campos científicos para el análisis de datos y simulaciones.\n",
        "\n",
        "### Entretenimiento\n",
        "\n",
        "Empresas de animación y videojuegos, como Disney y EA, utilizan Python para efectos especiales y desarrollo de juegos.\n",
        "\n",
        "### Salud\n",
        "\n",
        "Aplicado en el análisis de datos médicos, modelado predictivo y en el desarrollo de aplicaciones de salud.\n",
        "\n",
        "## Ejemplos de Código\n",
        "\n",
        "### \"Hola, Mundo!\"\n",
        "\n",
        "```python\n",
        "print(\"Hola, Mundo!\")\n"
      ],
      "metadata": {
        "id": "Noz_m79sfoZ7"
      }
    },
    {
      "cell_type": "markdown",
      "source": [
        "#Strings"
      ],
      "metadata": {
        "id": "tAyGIbt_iTuD"
      }
    },
    {
      "cell_type": "code",
      "source": [
        "print(\"Hola Mundo\")"
      ],
      "metadata": {
        "colab": {
          "base_uri": "https://localhost:8080/"
        },
        "id": "Mu0Hc3IWd3fM",
        "outputId": "41defd6b-f136-4a25-bda9-25947fc365a7"
      },
      "execution_count": null,
      "outputs": [
        {
          "output_type": "stream",
          "name": "stdout",
          "text": [
            "Hola Mundo\n"
          ]
        }
      ]
    },
    {
      "cell_type": "code",
      "source": [
        "# Declaración\n",
        "saludo = \"Hola\"\n",
        "nombre = \"Juan\"\n",
        "\n"
      ],
      "metadata": {
        "id": "B5XN_Kjjd3cM"
      },
      "execution_count": null,
      "outputs": []
    },
    {
      "cell_type": "code",
      "source": [
        "# Concatenación\n",
        "mensaje = saludo + \", \" + nombre + \"!\"\n",
        "print(mensaje)  # Output: Hola, Juan!\n"
      ],
      "metadata": {
        "colab": {
          "base_uri": "https://localhost:8080/"
        },
        "id": "vB1A10IGhO1q",
        "outputId": "f70dd7e8-1937-4a2c-cdf7-11aa83257ee1"
      },
      "execution_count": null,
      "outputs": [
        {
          "output_type": "stream",
          "name": "stdout",
          "text": [
            "Hola, Juan!\n"
          ]
        }
      ]
    },
    {
      "cell_type": "markdown",
      "source": [
        "##Formateo de Strings"
      ],
      "metadata": {
        "id": "AkWII09HkAYL"
      }
    },
    {
      "cell_type": "code",
      "source": [
        "# Formateo con f-strings\n",
        "nombre = \"Ana\"\n",
        "edad = 25\n"
      ],
      "metadata": {
        "id": "_dliqbFid3ZE"
      },
      "execution_count": null,
      "outputs": []
    },
    {
      "cell_type": "code",
      "source": [
        "mensaje = f\"Me llamo {nombre} y tengo {edad} años.\"\n",
        "print(mensaje)  # Output: Me llamo Ana y tengo 25 años."
      ],
      "metadata": {
        "colab": {
          "base_uri": "https://localhost:8080/"
        },
        "id": "s1S7tfkfh_ni",
        "outputId": "8420ad4b-5fe1-4a11-98ec-9002ffcd901e"
      },
      "execution_count": null,
      "outputs": [
        {
          "output_type": "stream",
          "name": "stdout",
          "text": [
            "Me llamo Ana y tengo 25 años.\n"
          ]
        }
      ]
    },
    {
      "cell_type": "code",
      "source": [
        "names = [\"Ana\", \"Jose\", \"Sara\", \"Mariana\"]\n",
        "edad = [25,30,12,20]\n",
        "\n",
        "for name, edad in zip(names, edad):\n",
        "  print(f\"Me llamo {name} y tengo {edad} años.\")\n"
      ],
      "metadata": {
        "colab": {
          "base_uri": "https://localhost:8080/"
        },
        "id": "Vn0uv0zZjGFE",
        "outputId": "6d83d1a2-1c37-4824-fc2d-97b9b817278f"
      },
      "execution_count": null,
      "outputs": [
        {
          "output_type": "stream",
          "name": "stdout",
          "text": [
            "Me llamo Ana y tengo 25 años.\n",
            "Me llamo Jose y tengo 30 años.\n",
            "Me llamo Sara y tengo 12 años.\n",
            "Me llamo Mariana y tengo 20 años.\n"
          ]
        }
      ]
    },
    {
      "cell_type": "code",
      "source": [
        "nombre= \"Adan\"\n",
        "edad= \"20\"\n",
        "mensaje = f\"Me llamo {nombre} y tengo {edad} años.\"\n",
        "print (mensaje)"
      ],
      "metadata": {
        "colab": {
          "base_uri": "https://localhost:8080/"
        },
        "id": "NjQ0zRPhkgLH",
        "outputId": "2319b672-3a6f-4b18-c935-33e9c43623f5"
      },
      "execution_count": null,
      "outputs": [
        {
          "output_type": "stream",
          "name": "stdout",
          "text": [
            "Me llamo Adan y tengo 20 años.\n"
          ]
        }
      ]
    },
    {
      "cell_type": "code",
      "source": [
        "# Método format()\n",
        "mensaje = \"Me llamo {} y tengo {} años.\".format(nombre, edad)\n",
        "print(mensaje)  # Output: Me llamo Ana y tengo 25 años."
      ],
      "metadata": {
        "id": "lHESGgpfqPcc"
      },
      "execution_count": null,
      "outputs": []
    },
    {
      "cell_type": "markdown",
      "source": [
        "##Métodos Comunes de Strings"
      ],
      "metadata": {
        "id": "szOyNLoJlJrz"
      }
    },
    {
      "cell_type": "code",
      "source": [
        "texto = \"  Python es genial!  \""
      ],
      "metadata": {
        "id": "St8b3PU7d3Wm"
      },
      "execution_count": null,
      "outputs": []
    },
    {
      "cell_type": "code",
      "source": [
        "# Convertir a mayúsculas\n",
        "print(texto.upper())"
      ],
      "metadata": {
        "colab": {
          "base_uri": "https://localhost:8080/"
        },
        "id": "zeDWn6mid3T4",
        "outputId": "3659a09b-7f36-40e4-b024-d1f3281f4d0c"
      },
      "execution_count": null,
      "outputs": [
        {
          "output_type": "stream",
          "name": "stdout",
          "text": [
            "  PYTHON ES GENIAL!  \n"
          ]
        }
      ]
    },
    {
      "cell_type": "code",
      "source": [
        "# Convertir a minúsculas\n",
        "print(texto.lower())"
      ],
      "metadata": {
        "colab": {
          "base_uri": "https://localhost:8080/"
        },
        "id": "A7d7Tcd-d3R3",
        "outputId": "23efb902-9e64-46c3-9c82-d3de49b53872"
      },
      "execution_count": null,
      "outputs": [
        {
          "output_type": "stream",
          "name": "stdout",
          "text": [
            "  python es genial!  \n"
          ]
        }
      ]
    },
    {
      "cell_type": "code",
      "source": [
        "# Reemplazar texto\n",
        "print(texto.replace(\"genial\", \"increíble\"))"
      ],
      "metadata": {
        "colab": {
          "base_uri": "https://localhost:8080/"
        },
        "id": "bX5941nEd3NJ",
        "outputId": "b332d3f4-f253-4370-d4c1-f177cd3c1f2e"
      },
      "execution_count": null,
      "outputs": [
        {
          "output_type": "stream",
          "name": "stdout",
          "text": [
            "  Python es increíble!  \n"
          ]
        }
      ]
    },
    {
      "cell_type": "code",
      "source": [
        "texto = \"python es increible!  \""
      ],
      "metadata": {
        "id": "YwW0TG3OlxGy"
      },
      "execution_count": null,
      "outputs": []
    },
    {
      "cell_type": "code",
      "source": [
        "print(texto)"
      ],
      "metadata": {
        "colab": {
          "base_uri": "https://localhost:8080/"
        },
        "id": "ZBPzmm3Jl27L",
        "outputId": "2f483416-ea97-4baf-faa8-8b7ea25e7683"
      },
      "execution_count": null,
      "outputs": [
        {
          "output_type": "stream",
          "name": "stdout",
          "text": [
            "  Python es increible!  \n"
          ]
        }
      ]
    },
    {
      "cell_type": "code",
      "source": [
        "# Longitud de un texto\n",
        "longitud = len(texto)\n",
        "print(longitud)"
      ],
      "metadata": {
        "colab": {
          "base_uri": "https://localhost:8080/"
        },
        "id": "_yB04HwQmpnb",
        "outputId": "3c236620-855a-4db3-98f0-58b8e4c45939"
      },
      "execution_count": null,
      "outputs": [
        {
          "output_type": "stream",
          "name": "stdout",
          "text": [
            "24\n"
          ]
        }
      ]
    },
    {
      "cell_type": "code",
      "source": [
        "# Capitalizar un texto\n",
        "capitalizado = texto.capitalize()\n",
        "print(capitalizado)"
      ],
      "metadata": {
        "colab": {
          "base_uri": "https://localhost:8080/"
        },
        "id": "rE3Folhnm4NQ",
        "outputId": "be6486c6-80e1-4010-aaed-b94579b88350"
      },
      "execution_count": null,
      "outputs": [
        {
          "output_type": "stream",
          "name": "stdout",
          "text": [
            "Python es increible!  \n"
          ]
        }
      ]
    },
    {
      "cell_type": "code",
      "source": [
        "# Reemplazar Substring\n",
        "reemplazado = texto.replace(\"genial\", \"increíble\")\n",
        "print(reemplazado)"
      ],
      "metadata": {
        "id": "i0g9CO3xnTtu"
      },
      "execution_count": null,
      "outputs": []
    },
    {
      "cell_type": "markdown",
      "source": [
        "### Eliminar espacios en blanco"
      ],
      "metadata": {
        "id": "DdNQal1IoAN-"
      }
    },
    {
      "cell_type": "code",
      "source": [
        "texto_con_espacios = \"  Python es increíble  \""
      ],
      "metadata": {
        "id": "9DB-RRSzqYCE"
      },
      "execution_count": null,
      "outputs": []
    },
    {
      "cell_type": "code",
      "source": [
        "sin_espacios_inicio = texto_con_espacios.lstrip()\n",
        "print(sin_espacios_inicio)  # Output: \"Python es increíble  \""
      ],
      "metadata": {
        "colab": {
          "base_uri": "https://localhost:8080/"
        },
        "id": "7Wx0I4Ygd3Pb",
        "outputId": "10b9e2c0-943c-47c0-d6db-bbfd26a35cb1"
      },
      "execution_count": null,
      "outputs": [
        {
          "output_type": "stream",
          "name": "stdout",
          "text": [
            "Python es increíble  \n"
          ]
        }
      ]
    },
    {
      "cell_type": "code",
      "source": [
        "sin_espacios_final = texto_con_espacios.rstrip()\n",
        "print(sin_espacios_final)  # Output: \"  Python es increíble\""
      ],
      "metadata": {
        "colab": {
          "base_uri": "https://localhost:8080/"
        },
        "id": "I369rN4RqTgS",
        "outputId": "9fe6af99-4061-4902-9220-c23cf4c47c23"
      },
      "execution_count": null,
      "outputs": [
        {
          "output_type": "stream",
          "name": "stdout",
          "text": [
            "  Python es increíble\n"
          ]
        }
      ]
    },
    {
      "cell_type": "code",
      "source": [
        "sin_espacios_ambos = texto_con_espacios.strip()\n",
        "print(sin_espacios_ambos)  # Output: \"Python es increíble\""
      ],
      "metadata": {
        "colab": {
          "base_uri": "https://localhost:8080/"
        },
        "id": "qxNctaFEqU1L",
        "outputId": "a479a4ab-9c45-4cfc-be10-2fc591953f11"
      },
      "execution_count": null,
      "outputs": [
        {
          "output_type": "stream",
          "name": "stdout",
          "text": [
            "Python es increíble\n"
          ]
        }
      ]
    },
    {
      "cell_type": "markdown",
      "source": [
        "###Dividir String en Lista"
      ],
      "metadata": {
        "id": "MLxmszYmn3Y2"
      }
    },
    {
      "cell_type": "code",
      "source": [
        "texto = \"Python es increible\""
      ],
      "metadata": {
        "id": "0s8S_0Z-7FjS"
      },
      "execution_count": null,
      "outputs": []
    },
    {
      "cell_type": "code",
      "source": [
        "lista_palabras = texto.split(\"n\")\n",
        "print(lista_palabras)  # Output: ['Python', 'es', 'increíble']"
      ],
      "metadata": {
        "id": "6ewvFRJQmyy6",
        "colab": {
          "base_uri": "https://localhost:8080/"
        },
        "outputId": "cafb0a40-c5a2-44b7-b4dd-6917da41c644"
      },
      "execution_count": null,
      "outputs": [
        {
          "output_type": "stream",
          "name": "stdout",
          "text": [
            "['Pytho', ' es i', 'creible']\n"
          ]
        }
      ]
    },
    {
      "cell_type": "code",
      "source": [
        "lista_partes = texto.split(\"es\")\n",
        "print(lista_partes)  # Output: ['Python ', ' increíble']"
      ],
      "metadata": {
        "id": "GreEgK4fn1sa",
        "colab": {
          "base_uri": "https://localhost:8080/"
        },
        "outputId": "8c3b3c14-bd49-46b4-b81f-50110c4bb8a2"
      },
      "execution_count": null,
      "outputs": [
        {
          "output_type": "stream",
          "name": "stdout",
          "text": [
            "['Python ', ' increible']\n"
          ]
        }
      ]
    },
    {
      "cell_type": "markdown",
      "source": [
        "##Acceso a Caracteres y Substrings"
      ],
      "metadata": {
        "id": "gKgbODUglfwz"
      }
    },
    {
      "cell_type": "markdown",
      "source": [
        "![image.png](data:image/png;base64,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)![image.png]()"
      ],
      "metadata": {
        "id": "Rb-ROKq9olu5"
      }
    },
    {
      "cell_type": "code",
      "source": [
        "mensaje = \"HGFD124578JH7\""
      ],
      "metadata": {
        "id": "le2UIa98d3IH"
      },
      "execution_count": null,
      "outputs": []
    },
    {
      "cell_type": "code",
      "source": [
        "# Primer carácter\n",
        "print(mensaje[0])  # Output: H"
      ],
      "metadata": {
        "colab": {
          "base_uri": "https://localhost:8080/"
        },
        "id": "4lps-Npq8h6A",
        "outputId": "54166d53-93af-4105-a671-264d407bdd67"
      },
      "execution_count": null,
      "outputs": [
        {
          "output_type": "stream",
          "name": "stdout",
          "text": [
            "H\n"
          ]
        }
      ]
    },
    {
      "cell_type": "code",
      "source": [
        "# Último carácter\n",
        "print(mensaje[-1])  # Output: !"
      ],
      "metadata": {
        "id": "REJKV9xQd3Ff",
        "colab": {
          "base_uri": "https://localhost:8080/"
        },
        "outputId": "e6d2237b-bac6-4074-884b-30c87a64c9e9"
      },
      "execution_count": null,
      "outputs": [
        {
          "output_type": "stream",
          "name": "stdout",
          "text": [
            "!\n"
          ]
        }
      ]
    },
    {
      "cell_type": "code",
      "source": [
        "# Substring\n",
        "print(mensaje[2:8])\n"
      ],
      "metadata": {
        "id": "_LK919N8d2-G",
        "colab": {
          "base_uri": "https://localhost:8080/"
        },
        "outputId": "e5e4ef16-bab1-4c14-a676-56e44d755a76"
      },
      "execution_count": null,
      "outputs": [
        {
          "output_type": "stream",
          "name": "stdout",
          "text": [
            "la, Mu\n"
          ]
        }
      ]
    },
    {
      "cell_type": "code",
      "source": [
        "print(mensaje[:-3])"
      ],
      "metadata": {
        "colab": {
          "base_uri": "https://localhost:8080/"
        },
        "id": "MsyJ5DyO81l0",
        "outputId": "d0af4ee5-456e-4c93-d7cf-7fffe92b96b5"
      },
      "execution_count": null,
      "outputs": [
        {
          "output_type": "stream",
          "name": "stdout",
          "text": [
            "HGFD124578\n"
          ]
        }
      ]
    },
    {
      "cell_type": "markdown",
      "source": [],
      "metadata": {
        "id": "MVkSpZxupktv"
      }
    },
    {
      "cell_type": "markdown",
      "source": [
        "# Tipos de Datos"
      ],
      "metadata": {
        "id": "rz2oqjZRssfp"
      }
    },
    {
      "cell_type": "markdown",
      "source": [
        "##Introducción\n",
        "Python es un lenguaje de programación versátil y fácil de aprender. Entender los tipos de datos en Python es esencial para empezar a programar. En este tutorial, nos centraremos en tres tipos de datos fundamentales: int, float y bool."
      ],
      "metadata": {
        "id": "X1ekws7ZswYd"
      }
    },
    {
      "cell_type": "markdown",
      "source": [
        "###Enteros (int)\n",
        "Los enteros son números sin parte decimal. En Python, los enteros pueden ser positivos o negativos."
      ],
      "metadata": {
        "id": "Nj01BZH7s60p"
      }
    },
    {
      "cell_type": "code",
      "source": [
        "# Definición de un número entero\n",
        "numero_entero = 10\n",
        "print(numero_entero)"
      ],
      "metadata": {
        "colab": {
          "base_uri": "https://localhost:8080/"
        },
        "id": "sXFwPJ1Itpg8",
        "outputId": "9dcb40b0-3887-4d5f-bcca-399b2bdd0d94"
      },
      "execution_count": null,
      "outputs": [
        {
          "output_type": "stream",
          "name": "stdout",
          "text": [
            "10\n"
          ]
        }
      ]
    },
    {
      "cell_type": "code",
      "source": [
        "type(numero_entero)"
      ],
      "metadata": {
        "colab": {
          "base_uri": "https://localhost:8080/"
        },
        "id": "qZEw_hJK_rL8",
        "outputId": "7705a27a-31b5-4694-cf07-44f7741f47ac"
      },
      "execution_count": null,
      "outputs": [
        {
          "output_type": "execute_result",
          "data": {
            "text/plain": [
              "int"
            ]
          },
          "metadata": {},
          "execution_count": 25
        }
      ]
    },
    {
      "cell_type": "code",
      "source": [
        "# Operaciones con enteros\n",
        "suma = 5 + 7\n",
        "print(suma)"
      ],
      "metadata": {
        "colab": {
          "base_uri": "https://localhost:8080/"
        },
        "id": "kBzXepXMueWB",
        "outputId": "457320f1-7504-41e0-9930-1128bad274ee"
      },
      "execution_count": null,
      "outputs": [
        {
          "output_type": "stream",
          "name": "stdout",
          "text": [
            "12\n"
          ]
        }
      ]
    },
    {
      "cell_type": "code",
      "source": [
        "type(suma)"
      ],
      "metadata": {
        "colab": {
          "base_uri": "https://localhost:8080/"
        },
        "id": "uc8_DNrp_2bK",
        "outputId": "63f8830b-7775-442d-e45e-638288d2e0df"
      },
      "execution_count": null,
      "outputs": [
        {
          "output_type": "execute_result",
          "data": {
            "text/plain": [
              "int"
            ]
          },
          "metadata": {},
          "execution_count": 27
        }
      ]
    },
    {
      "cell_type": "code",
      "source": [
        "resta = 10 - 3\n",
        "print(resta)"
      ],
      "metadata": {
        "colab": {
          "base_uri": "https://localhost:8080/"
        },
        "id": "6TIp0EERugNz",
        "outputId": "98cd8e65-3142-4c03-aeb4-f53efa4b78d2"
      },
      "execution_count": null,
      "outputs": [
        {
          "output_type": "stream",
          "name": "stdout",
          "text": [
            "7\n"
          ]
        }
      ]
    },
    {
      "cell_type": "code",
      "source": [
        "multiplicacion = 4 * 3\n",
        "print(multiplicacion)"
      ],
      "metadata": {
        "colab": {
          "base_uri": "https://localhost:8080/"
        },
        "id": "YFhgy5VAujyB",
        "outputId": "f1d9cb3a-93b3-4f21-b9c6-b7b9d7e55fbf"
      },
      "execution_count": null,
      "outputs": [
        {
          "output_type": "stream",
          "name": "stdout",
          "text": [
            "12\n"
          ]
        }
      ]
    },
    {
      "cell_type": "code",
      "source": [
        "division_entera = 10 // 3\n",
        "print(division_entera)"
      ],
      "metadata": {
        "colab": {
          "base_uri": "https://localhost:8080/"
        },
        "id": "oaHcpKTeulYR",
        "outputId": "cd4558bf-e4d8-42bd-89cc-915607d35e5f"
      },
      "execution_count": null,
      "outputs": [
        {
          "output_type": "stream",
          "name": "stdout",
          "text": [
            "3\n"
          ]
        }
      ]
    },
    {
      "cell_type": "code",
      "source": [
        "modulo = 10 % 3\n",
        "print(modulo)  # Output: 1"
      ],
      "metadata": {
        "colab": {
          "base_uri": "https://localhost:8080/"
        },
        "id": "pdioENMDuoD1",
        "outputId": "1f88bd72-2dd1-40a4-c5cf-88b8fa427138"
      },
      "execution_count": null,
      "outputs": [
        {
          "output_type": "stream",
          "name": "stdout",
          "text": [
            "1\n"
          ]
        }
      ]
    },
    {
      "cell_type": "code",
      "source": [
        "potencia = 2 ** 3\n",
        "print(potencia)"
      ],
      "metadata": {
        "colab": {
          "base_uri": "https://localhost:8080/"
        },
        "id": "qloubdNsAO79",
        "outputId": "578b301a-20b1-4995-f844-080e4f5b7d5c"
      },
      "execution_count": null,
      "outputs": [
        {
          "output_type": "stream",
          "name": "stdout",
          "text": [
            "8\n"
          ]
        }
      ]
    },
    {
      "cell_type": "code",
      "source": [
        "type(potencia)"
      ],
      "metadata": {
        "colab": {
          "base_uri": "https://localhost:8080/"
        },
        "id": "_eznDx-xAYdr",
        "outputId": "39673803-4a3b-4813-d2b8-4a6d4815bcb0"
      },
      "execution_count": null,
      "outputs": [
        {
          "output_type": "execute_result",
          "data": {
            "text/plain": [
              "int"
            ]
          },
          "metadata": {},
          "execution_count": 36
        }
      ]
    },
    {
      "cell_type": "markdown",
      "source": [
        "###Flotantes (float)\n",
        "Los flotantes son números con parte decimal. Se utilizan para representar números fraccionarios o números con decimales."
      ],
      "metadata": {
        "id": "8w_Wv7KtvG7z"
      }
    },
    {
      "cell_type": "code",
      "source": [
        "# Definición de un número flotante\n",
        "numero_flotante = 10.0\n",
        "print(numero_flotante)"
      ],
      "metadata": {
        "colab": {
          "base_uri": "https://localhost:8080/"
        },
        "id": "OdnliZ7YvI_7",
        "outputId": "d1af890f-7f82-4123-ab37-127822c6c03d"
      },
      "execution_count": null,
      "outputs": [
        {
          "output_type": "stream",
          "name": "stdout",
          "text": [
            "10.0\n"
          ]
        }
      ]
    },
    {
      "cell_type": "code",
      "source": [
        "type(numero_flotante)"
      ],
      "metadata": {
        "colab": {
          "base_uri": "https://localhost:8080/"
        },
        "id": "8H_HJ_SDA0-9",
        "outputId": "04c6eb2a-bf38-4c8c-b928-a1c292aa23bc"
      },
      "execution_count": null,
      "outputs": [
        {
          "output_type": "execute_result",
          "data": {
            "text/plain": [
              "float"
            ]
          },
          "metadata": {},
          "execution_count": 39
        }
      ]
    },
    {
      "cell_type": "code",
      "source": [
        "# Operaciones con flotantes\n",
        "suma_flotante = 5.5 + 2.3\n",
        "print(suma_flotante)"
      ],
      "metadata": {
        "colab": {
          "base_uri": "https://localhost:8080/"
        },
        "id": "9QuDidJGvPAE",
        "outputId": "234f47f9-1927-4714-b1f1-1a41ffcc7052"
      },
      "execution_count": null,
      "outputs": [
        {
          "output_type": "stream",
          "name": "stdout",
          "text": [
            "7.8\n"
          ]
        }
      ]
    },
    {
      "cell_type": "code",
      "source": [
        "suma_int_float = 7 + 3.0\n",
        "print(suma_int_float)\n",
        "type(suma_int_float)"
      ],
      "metadata": {
        "colab": {
          "base_uri": "https://localhost:8080/"
        },
        "id": "8qAQWK5MA6rl",
        "outputId": "c88d2fbc-9ce7-441a-984e-da198a22e85d"
      },
      "execution_count": null,
      "outputs": [
        {
          "output_type": "stream",
          "name": "stdout",
          "text": [
            "10.0\n"
          ]
        },
        {
          "output_type": "execute_result",
          "data": {
            "text/plain": [
              "float"
            ]
          },
          "metadata": {},
          "execution_count": 41
        }
      ]
    },
    {
      "cell_type": "code",
      "source": [
        "resta_flotante = 7.5 - 1.2\n",
        "print(resta_flotante)"
      ],
      "metadata": {
        "colab": {
          "base_uri": "https://localhost:8080/"
        },
        "id": "xjn01nGfvQva",
        "outputId": "66baa8cf-0bc9-4082-92a1-90cf11574c35"
      },
      "execution_count": null,
      "outputs": [
        {
          "output_type": "stream",
          "name": "stdout",
          "text": [
            "6.3\n"
          ]
        }
      ]
    },
    {
      "cell_type": "code",
      "source": [
        "multiplicacion_flotante = 4.1 * 2.0\n",
        "print(multiplicacion_flotante)"
      ],
      "metadata": {
        "colab": {
          "base_uri": "https://localhost:8080/"
        },
        "id": "BA3h3UbDvSWE",
        "outputId": "ace238ea-09a3-408b-dc47-4acfe61be264"
      },
      "execution_count": null,
      "outputs": [
        {
          "output_type": "stream",
          "name": "stdout",
          "text": [
            "8.2\n"
          ]
        }
      ]
    },
    {
      "cell_type": "code",
      "source": [
        "division_flotante = 10 / 5.0\n",
        "print(division_flotante)"
      ],
      "metadata": {
        "colab": {
          "base_uri": "https://localhost:8080/"
        },
        "id": "UC4pn9vgvTxP",
        "outputId": "5f331482-2c09-4f41-c980-10e28622ad6f"
      },
      "execution_count": null,
      "outputs": [
        {
          "output_type": "stream",
          "name": "stdout",
          "text": [
            "2.0\n"
          ]
        }
      ]
    },
    {
      "cell_type": "markdown",
      "source": [
        "###Booleanos (bool)\n",
        "Los booleanos representan valores de verdad: True (verdadero) o False (falso). Son útiles para tomar decisiones en el código."
      ],
      "metadata": {
        "id": "cxlKLyHNvovt"
      }
    },
    {
      "cell_type": "code",
      "source": [
        "# Definición de valores booleanos\n",
        "es_verdadero = True\n",
        "es_falso = False\n",
        "print(es_verdadero)\n",
        "print(es_falso)\n",
        "\n"
      ],
      "metadata": {
        "colab": {
          "base_uri": "https://localhost:8080/"
        },
        "id": "v0CX-02Kvqvf",
        "outputId": "00cb92cf-e933-4138-fc35-ba8d31afe226"
      },
      "execution_count": null,
      "outputs": [
        {
          "output_type": "stream",
          "name": "stdout",
          "text": [
            "True\n",
            "False\n"
          ]
        }
      ]
    },
    {
      "cell_type": "code",
      "source": [
        "# Operaciones con booleanos\n",
        "igual = (5 == 5)\n",
        "print(igual)"
      ],
      "metadata": {
        "colab": {
          "base_uri": "https://localhost:8080/"
        },
        "id": "VfcLBiSFvvw6",
        "outputId": "fa3bf0f8-bede-46cf-926a-37a6e09ac392"
      },
      "execution_count": null,
      "outputs": [
        {
          "output_type": "stream",
          "name": "stdout",
          "text": [
            "True\n"
          ]
        }
      ]
    },
    {
      "cell_type": "code",
      "source": [
        "diferente = (5 != 3)\n",
        "print(diferente)"
      ],
      "metadata": {
        "colab": {
          "base_uri": "https://localhost:8080/"
        },
        "id": "gdxiZt7XvxZz",
        "outputId": "ed4d2f79-7416-43f7-bac1-2bd7a5bd3521"
      },
      "execution_count": null,
      "outputs": [
        {
          "output_type": "stream",
          "name": "stdout",
          "text": [
            "True\n"
          ]
        }
      ]
    },
    {
      "cell_type": "code",
      "source": [
        "mayor_que = (7 > 3)\n",
        "print(mayor_que)"
      ],
      "metadata": {
        "colab": {
          "base_uri": "https://localhost:8080/"
        },
        "id": "_FKy7JErvyxP",
        "outputId": "1bdef036-da01-4752-e79a-05f7536ce3e3"
      },
      "execution_count": null,
      "outputs": [
        {
          "output_type": "stream",
          "name": "stdout",
          "text": [
            "True\n"
          ]
        }
      ]
    },
    {
      "cell_type": "code",
      "source": [
        "menor_que = (8 < 2)\n",
        "print(menor_que)"
      ],
      "metadata": {
        "colab": {
          "base_uri": "https://localhost:8080/"
        },
        "id": "mQBVKs5Mv0Nb",
        "outputId": "808fb393-f8ea-4a74-a0e4-8c220cdf7481"
      },
      "execution_count": null,
      "outputs": [
        {
          "output_type": "stream",
          "name": "stdout",
          "text": [
            "False\n"
          ]
        }
      ]
    },
    {
      "cell_type": "code",
      "source": [
        "mayor_o_igual = (5 >= 5)\n",
        "print(mayor_o_igual)"
      ],
      "metadata": {
        "colab": {
          "base_uri": "https://localhost:8080/"
        },
        "id": "WmXT8ypFv1l1",
        "outputId": "05e0dfb7-9a70-4552-b280-ae6d1d410af0"
      },
      "execution_count": null,
      "outputs": [
        {
          "output_type": "stream",
          "name": "stdout",
          "text": [
            "True\n"
          ]
        }
      ]
    },
    {
      "cell_type": "code",
      "source": [
        "menor_o_igual = (3 <= 4)\n",
        "print(menor_o_igual)"
      ],
      "metadata": {
        "colab": {
          "base_uri": "https://localhost:8080/"
        },
        "id": "qfzCdT7lv4vy",
        "outputId": "2801a5f8-5190-465a-9bac-439f43d21723"
      },
      "execution_count": null,
      "outputs": [
        {
          "output_type": "stream",
          "name": "stdout",
          "text": [
            "True\n"
          ]
        }
      ]
    },
    {
      "cell_type": "markdown",
      "source": [
        "###Ejercicios Prácticos"
      ],
      "metadata": {
        "id": "uBIdKyKMwS9u"
      }
    },
    {
      "cell_type": "markdown",
      "source": [
        "\n",
        "Definir dos números enteros y mostrar su suma, resta, multiplicación, división entera y módulo."
      ],
      "metadata": {
        "id": "USpsRuLCwCuW"
      }
    },
    {
      "cell_type": "code",
      "source": [
        "num1 = 15\n",
        "num2 = 4\n",
        "print(\"Suma:\", num1 + num2)              # Output: Suma: 19\n",
        "print(\"Resta:\", num1 - num2)             # Output: Resta: 11\n",
        "print(\"Multiplicación:\", num1 * num2)    # Output: Multiplicación: 60\n",
        "print(\"División Entera:\", num1 // num2)  # Output: División Entera: 3\n",
        "print(\"Módulo:\", num1 % num2)            # Output: Módulo: 3"
      ],
      "metadata": {
        "id": "V5u8FdSSwEyf"
      },
      "execution_count": null,
      "outputs": []
    },
    {
      "cell_type": "markdown",
      "source": [
        "Definir dos números flotantes y mostrar su suma, resta, multiplicación y división."
      ],
      "metadata": {
        "id": "7AtcA1bFwP9U"
      }
    },
    {
      "cell_type": "code",
      "source": [
        "num1 = 7.2\n",
        "num2 = 3.8\n",
        "print(\"Suma:\", num1 + num2)              # Output: Suma: 11.0\n",
        "print(\"Resta:\", num1 - num2)             # Output: Resta: 3.4\n",
        "print(\"Multiplicación:\", num1 * num2)    # Output: Multiplicación: 27.36\n",
        "print(\"División:\", num1 / num2)          # Output: División: 1.894736842105263"
      ],
      "metadata": {
        "id": "KkYCDhMswcMu"
      },
      "execution_count": null,
      "outputs": []
    },
    {
      "cell_type": "markdown",
      "source": [
        "Definir dos variables booleanas y mostrar el resultado de algunas operaciones lógicas."
      ],
      "metadata": {
        "id": "djp8S39twLrx"
      }
    },
    {
      "cell_type": "code",
      "source": [
        "a = True\n",
        "b = False\n",
        "print(\"a AND b:\", a and b)  # Output: a AND b: False\n",
        "print(\"a OR b:\", a or b)    # Output: a OR b: True\n",
        "print(\"NOT a:\", not a)      # Output: NOT a: False\n",
        "print(\"a == b:\", a == b)    # Output: a == b: False\n",
        "print(\"a != b:\", a != b)    # Output: a != b: True"
      ],
      "metadata": {
        "id": "QmClvpRzwjZT"
      },
      "execution_count": null,
      "outputs": []
    },
    {
      "cell_type": "code",
      "source": [
        "numero_entero = 9\n",
        "print(numero_entero)\n",
        "\n",
        "suma = 6 + 3\n",
        "print(suma)\n",
        "\n",
        "division_entera = 81 // 9\n",
        "print(division_entera)\n",
        "\n",
        "resta = 12 - 3\n",
        "print(resta)\n",
        "\n",
        "multiplicacion = 3 * 3\n",
        "print(multiplicacion)\n",
        "\n",
        "modulo = 9 % 2\n",
        "print(modulo)"
      ],
      "metadata": {
        "colab": {
          "base_uri": "https://localhost:8080/"
        },
        "id": "IROF7qI2Esfz",
        "outputId": "184285e8-1f88-4831-8981-74cb5acc69e7"
      },
      "execution_count": null,
      "outputs": [
        {
          "output_type": "stream",
          "name": "stdout",
          "text": [
            "9\n",
            "9\n",
            "9\n",
            "9\n",
            "9\n",
            "1\n"
          ]
        }
      ]
    }
  ]
}